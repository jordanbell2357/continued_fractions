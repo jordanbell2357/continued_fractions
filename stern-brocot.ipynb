{
 "cells": [
  {
   "cell_type": "markdown",
   "id": "f6b75632",
   "metadata": {},
   "source": [
    "https://mattbaker.blog/2019/01/28/the-stern-brocot-tree-hurwitzs-theorem-and-the-markoff-uniqueness-conjecture/"
   ]
  },
  {
   "cell_type": "code",
   "execution_count": 158,
   "id": "682b3b75",
   "metadata": {},
   "outputs": [
    {
     "name": "stdout",
     "output_type": "stream",
     "text": [
      "'', (1, 1)\n",
      "'L', (1, 2)\n",
      "'R', (2, 1)\n"
     ]
    }
   ],
   "source": [
    "class Node:\n",
    "    def __init__(self, move_list, left_tuple, middle_tuple, right_tuple):\n",
    "        self.move_list = move_list\n",
    "        self.left_tuple = left_tuple\n",
    "        self.middle_tuple = middle_tuple\n",
    "        self.right_tuple = right_tuple\n",
    "    \n",
    "    @staticmethod\n",
    "    def mediant(x, y):\n",
    "        return (x[0] + y[0], x[1] + y[1])\n",
    "\n",
    "    def L(self):\n",
    "        \"\"\"Left child: (left_tuple, mediant(left_tuple, middle_tuple), middle_tuple).\"\"\"\n",
    "        new_move_list = self.move_list + ['L']\n",
    "        new_middle_tuple = type(self).mediant(self.left_tuple, self.middle_tuple)\n",
    "        return type(self)(new_move_list, self.left_tuple, new_middle_tuple, self.middle_tuple)\n",
    "\n",
    "    def R(self):\n",
    "        \"\"\"Right child: (middle_tuple, mediant(middle_tuple, right_tuple), right_tuple).\"\"\"\n",
    "        new_move_list = self.move_list + ['R']\n",
    "        new_middle_tuple = type(self).mediant(self.middle_tuple, self.right_tuple)\n",
    "        return type(self)(new_move_list, self.middle_tuple, new_middle_tuple, self.right_tuple)\n",
    "    \n",
    "    def __eq__(self, other):\n",
    "        return self.middle_tuple == other.middle_tuple\n",
    "\n",
    "    def __repr__(self):\n",
    "        return f\"{type(self).__name__}({self.move_list}, {self.left_tuple}, {self.middle_tuple}, {self.right_tuple})\"\n",
    "    \n",
    "    def __str__(self):\n",
    "        return f\"'{''.join(self.move_list)}', {self.middle_tuple}\"\n",
    "\n",
    "\n",
    "# Example\n",
    "N0 = Node([], (0, 1), (1, 1), (1, 0))\n",
    "L = N0.L()\n",
    "R = N0.R()\n",
    "print(N0)\n",
    "print(L)  # Node((0, 1), (1, 2), (1, 1))\n",
    "print(R)  # Node((1, 1), (2, 1), (1, 0))\n"
   ]
  },
  {
   "cell_type": "code",
   "execution_count": 159,
   "id": "94a0e615",
   "metadata": {},
   "outputs": [
    {
     "data": {
      "text/plain": [
       "Node(['L', 'L'], (0, 1), (1, 3), (1, 2))"
      ]
     },
     "execution_count": 159,
     "metadata": {},
     "output_type": "execute_result"
    }
   ],
   "source": [
    "LL = L.L()\n",
    "LL"
   ]
  },
  {
   "cell_type": "code",
   "execution_count": 160,
   "id": "e8615f59",
   "metadata": {},
   "outputs": [
    {
     "name": "stdout",
     "output_type": "stream",
     "text": [
      "'LL', (1, 3)\n"
     ]
    }
   ],
   "source": [
    "print(LL)"
   ]
  },
  {
   "cell_type": "code",
   "execution_count": 161,
   "id": "ceb20b9f",
   "metadata": {},
   "outputs": [
    {
     "data": {
      "text/plain": [
       "Node(['L', 'L', 'L'], (0, 1), (1, 4), (1, 3))"
      ]
     },
     "execution_count": 161,
     "metadata": {},
     "output_type": "execute_result"
    }
   ],
   "source": [
    "LLL = LL.L()\n",
    "LLL"
   ]
  },
  {
   "cell_type": "code",
   "execution_count": 162,
   "id": "c3d1b1c0",
   "metadata": {},
   "outputs": [
    {
     "data": {
      "text/plain": [
       "Node(['L', 'L', 'L', 'R'], (1, 4), (2, 7), (1, 3))"
      ]
     },
     "execution_count": 162,
     "metadata": {},
     "output_type": "execute_result"
    }
   ],
   "source": [
    "LLLR = LLL.R()\n",
    "LLLR"
   ]
  },
  {
   "cell_type": "code",
   "execution_count": 163,
   "id": "4956d1c2",
   "metadata": {},
   "outputs": [
    {
     "data": {
      "text/plain": [
       "True"
      ]
     },
     "execution_count": 163,
     "metadata": {},
     "output_type": "execute_result"
    }
   ],
   "source": [
    "N0.L() == L"
   ]
  },
  {
   "cell_type": "code",
   "execution_count": 165,
   "id": "1ec3b68e",
   "metadata": {},
   "outputs": [
    {
     "data": {
      "text/plain": [
       "((1, 3), ['L', 'L'])"
      ]
     },
     "execution_count": 165,
     "metadata": {},
     "output_type": "execute_result"
    }
   ],
   "source": [
    "def mediant(x, y):\n",
    "    return (x[0] + y[0], x[1] + y[1])\n",
    "\n",
    "def L(node):\n",
    "    return (node[0], mediant(node[0], node[1]), node[1])\n",
    "\n",
    "def R(node):\n",
    "    return (node[1], mediant(node[1], node[2]), node[2])\n",
    "\n",
    "def sb_approx(root_node, fraction_tuple):\n",
    "    move_list = []\n",
    "    node = root_node\n",
    "    while True:\n",
    "        fraction_tuple_value = fraction_tuple[0] / fraction_tuple[1]\n",
    "        node_middle_value = node[1][0] / node[1][1]\n",
    "        if fraction_tuple_value < node_middle_value:\n",
    "            node = L(node)\n",
    "            move_list.append(\"L\")\n",
    "        elif fraction_tuple_value == node_middle_value:\n",
    "            break\n",
    "        else:\n",
    "            node = R(node)\n",
    "            move_list.append(\"R\")\n",
    "\n",
    "    return node[1], move_list\n",
    "\n",
    "move_dict = {\"L\": L, \"R\": R}\n",
    "\n",
    "root_node = ((0, 1), (1, 1), (1, 0))\n",
    "\n",
    "\n",
    "fraction_tuple = (1, 3)  \n",
    "\n",
    "node, move_list = sb_approx(root_node, fraction_tuple)\n",
    "\n",
    "node, move_list"
   ]
  },
  {
   "cell_type": "code",
   "execution_count": 166,
   "id": "09916782",
   "metadata": {},
   "outputs": [
    {
     "data": {
      "text/plain": [
       "((0, 1), (1, 3), (1, 2))"
      ]
     },
     "execution_count": 166,
     "metadata": {},
     "output_type": "execute_result"
    }
   ],
   "source": [
    "from functools import reduce\n",
    "\n",
    "reduce(lambda node, f: move_dict[f](node), move_list, root_node)"
   ]
  },
  {
   "cell_type": "code",
   "execution_count": 167,
   "id": "599ab5ba",
   "metadata": {},
   "outputs": [
    {
     "data": {
      "text/plain": [
       "((13, 41), ['L', 'L', 'L', 'R', 'R', 'R', 'R', 'R', 'R', 'L'])"
      ]
     },
     "execution_count": 167,
     "metadata": {},
     "output_type": "execute_result"
    }
   ],
   "source": [
    "root_node = ((0, 1), (1, 1), (1, 0))\n",
    "\n",
    "fraction_tuple = (13, 41)  \n",
    "\n",
    "node, move_list = sb_approx(root_node, fraction_tuple)\n",
    "\n",
    "node, move_list"
   ]
  },
  {
   "cell_type": "code",
   "execution_count": 168,
   "id": "319878bb",
   "metadata": {},
   "outputs": [
    {
     "data": {
      "text/plain": [
       "((6, 19), (13, 41), (7, 22))"
      ]
     },
     "execution_count": 168,
     "metadata": {},
     "output_type": "execute_result"
    }
   ],
   "source": [
    "reduce(lambda node, f: move_dict[f](node), move_list, root_node)"
   ]
  },
  {
   "cell_type": "code",
   "execution_count": 169,
   "id": "37d735c1",
   "metadata": {},
   "outputs": [
    {
     "data": {
      "text/plain": [
       "((23, 97), ['L', 'L', 'L', 'L', 'R', 'R', 'R', 'R', 'L', 'R', 'L'])"
      ]
     },
     "execution_count": 169,
     "metadata": {},
     "output_type": "execute_result"
    }
   ],
   "source": [
    "root_node = ((0, 1), (1, 1), (1, 0))\n",
    "\n",
    "fraction_tuple = (23, 97)  \n",
    "\n",
    "node, move_list = sb_approx(root_node, fraction_tuple)\n",
    "\n",
    "node, move_list"
   ]
  },
  {
   "cell_type": "code",
   "execution_count": 170,
   "id": "7762027d",
   "metadata": {},
   "outputs": [
    {
     "data": {
      "text/plain": [
       "((9, 38), (23, 97), (14, 59))"
      ]
     },
     "execution_count": 170,
     "metadata": {},
     "output_type": "execute_result"
    }
   ],
   "source": [
    "reduce(lambda node, f: move_dict[f](node), move_list, root_node)"
   ]
  },
  {
   "cell_type": "code",
   "execution_count": 171,
   "id": "1a2baf89",
   "metadata": {},
   "outputs": [
    {
     "data": {
      "text/plain": [
       "[[((0, 1), (1, 1), (1, 0))],\n",
       " [((0, 1), (1, 2), (1, 1)), ((1, 1), (2, 1), (1, 0))],\n",
       " [((0, 1), (1, 3), (1, 2)),\n",
       "  ((1, 2), (2, 3), (1, 1)),\n",
       "  ((1, 1), (3, 2), (2, 1)),\n",
       "  ((2, 1), (3, 1), (1, 0))]]"
      ]
     },
     "execution_count": 171,
     "metadata": {},
     "output_type": "execute_result"
    }
   ],
   "source": [
    "def extended_sb(n):\n",
    "    extended_sb_row_list = []\n",
    "    extended_sb_row_list.append([root_node])\n",
    "    while len(extended_sb_row_list) <= n:\n",
    "        sb_next_row = []\n",
    "        for node in extended_sb_row_list[-1]:\n",
    "            sb_next_row.append(L(node))\n",
    "            sb_next_row.append(R(node))\n",
    "        extended_sb_row_list.append(sb_next_row)\n",
    "    return extended_sb_row_list\n",
    "\n",
    "extended_sb(2)"
   ]
  },
  {
   "cell_type": "code",
   "execution_count": 172,
   "id": "b0c80391",
   "metadata": {},
   "outputs": [
    {
     "data": {
      "text/plain": [
       "[[(1, 1)], [(1, 2), (2, 1)], [(1, 3), (2, 3), (3, 2), (3, 1)]]"
      ]
     },
     "execution_count": 172,
     "metadata": {},
     "output_type": "execute_result"
    }
   ],
   "source": [
    "def sb(n):\n",
    "    extended_sb_row_list = extended_sb(n)\n",
    "    sb_row_list = []\n",
    "    for row in extended_sb_row_list:\n",
    "        row = [node[1] for node in row]\n",
    "        sb_row_list.append(row)\n",
    "    return sb_row_list\n",
    "\n",
    "sb(2)"
   ]
  },
  {
   "cell_type": "code",
   "execution_count": null,
   "id": "44bdae49",
   "metadata": {},
   "outputs": [],
   "source": []
  }
 ],
 "metadata": {
  "kernelspec": {
   "display_name": "venv",
   "language": "python",
   "name": "python3"
  },
  "language_info": {
   "codemirror_mode": {
    "name": "ipython",
    "version": 3
   },
   "file_extension": ".py",
   "mimetype": "text/x-python",
   "name": "python",
   "nbconvert_exporter": "python",
   "pygments_lexer": "ipython3",
   "version": "3.13.1"
  }
 },
 "nbformat": 4,
 "nbformat_minor": 5
}
