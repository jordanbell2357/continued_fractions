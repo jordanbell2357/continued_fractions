{
 "cells": [
  {
   "cell_type": "code",
   "execution_count": 13,
   "id": "a2c72056",
   "metadata": {},
   "outputs": [
    {
     "name": "stdout",
     "output_type": "stream",
     "text": [
      "CalkinWilfNode(['L', 'L', 'R'], 4, 3)\n",
      "[('L', 2), ('R', 1)]\n"
     ]
    }
   ],
   "source": [
    "import itertools as it\n",
    "\n",
    "class CalkinWilfNode:\n",
    "    def __init__(self, move_list, numerator, denominator):\n",
    "        self.move_list = move_list\n",
    "        self.numerator = numerator\n",
    "        self.denominator = denominator\n",
    "    \n",
    "    def L(self):\n",
    "        new_move_list = self.move_list + [\"L\"]\n",
    "        new_numerator = self.numerator\n",
    "        new_denominator = self.numerator + self.denominator\n",
    "        return type(self)(new_move_list, new_numerator, new_denominator)\n",
    "    \n",
    "    def R(self):\n",
    "        new_move_list = self.move_list + [\"R\"]\n",
    "        new_numerator = self.numerator + self.denominator\n",
    "        new_denominator = self.denominator\n",
    "        return type(self)(new_move_list, new_numerator, new_denominator)\n",
    "    \n",
    "    def run_list(self):\n",
    "        return [(k, len(list(g))) for k, g in it.groupby(self.move_list)]\n",
    "    \n",
    "    def __repr__(self):\n",
    "        return f\"{type(self).__name__}({self.move_list}, {self.numerator}, {self.denominator})\"\n",
    "    \n",
    "N0 = CalkinWilfNode([], 1, 1)\n",
    "N = N0.L().L().R()\n",
    "print(N)\n",
    "print(N.run_list())"
   ]
  },
  {
   "cell_type": "code",
   "execution_count": 25,
   "id": "36c75864",
   "metadata": {},
   "outputs": [
    {
     "name": "stdout",
     "output_type": "stream",
     "text": [
      "ReverseCalkinWilfNode([], 5, 2)\n",
      "['L', 'R', 'R']\n"
     ]
    }
   ],
   "source": [
    "class ReverseCalkinWilfNode:\n",
    "    def __init__(self, move_list, numerator, denominator):\n",
    "        self.move_list = move_list\n",
    "        self.numerator = numerator\n",
    "        self.denominator = denominator\n",
    "\n",
    "    def P(self):\n",
    "        if self.numerator < self.denominator:\n",
    "            new_move_list = [\"L\"] + self.move_list\n",
    "            new_numerator = self.numerator\n",
    "            new_denominator = self.denominator - self.numerator\n",
    "            return type(self)(new_move_list, new_numerator, new_denominator)\n",
    "        elif self.numerator > self.denominator:\n",
    "            new_move_list = [\"R\"] + self.move_list\n",
    "            new_numerator = self.numerator - self.denominator\n",
    "            new_denominator = self.denominator\n",
    "            return type(self)(new_move_list, new_numerator, new_denominator)\n",
    "        \n",
    "    def __repr__(self):\n",
    "        return f\"{type(self).__name__}({self.move_list}, {self.numerator}, {self.denominator})\"\n",
    "    \n",
    "\n",
    "if __name__ == \"__main__\":\n",
    "    R = ReverseCalkinWilfNode([], 5, 2)\n",
    "    print(R)\n",
    "    move_list = R.P().P().P().move_list\n",
    "    print(move_list)"
   ]
  },
  {
   "cell_type": "markdown",
   "id": "f6b75632",
   "metadata": {},
   "source": [
    "https://mattbaker.blog/2019/01/28/the-stern-brocot-tree-hurwitzs-theorem-and-the-markoff-uniqueness-conjecture/"
   ]
  },
  {
   "cell_type": "code",
   "execution_count": 11,
   "id": "682b3b75",
   "metadata": {},
   "outputs": [
    {
     "name": "stdout",
     "output_type": "stream",
     "text": [
      "SternBrocotNode(['L', 'L', 'L', 'L', 'L', 'L', 'L', 'L', 'R', 'L', 'R', 'R', 'R', 'R', 'R', 'R', 'R', 'R', 'R', 'R'], (21, 179), (23, 196), (2, 17))\n",
      "[('R', 0), ('L', 8), ('R', 1), ('L', 1), ('R', 10)]\n",
      "(23, 196)\n"
     ]
    }
   ],
   "source": [
    "import itertools as it\n",
    "\n",
    "class SternBrocotNode:\n",
    "    root_left_tuple, root_middle_tuple, root_right_tuple = (0, 1), (1, 1), (1, 0)\n",
    "\n",
    "    @classmethod\n",
    "    def locate_fraction_tuple(cls, fraction_tuple):\n",
    "        N = cls([], cls.root_left_tuple, cls.root_middle_tuple, cls.root_right_tuple)\n",
    "        while True:\n",
    "            fraction_tuple_value = fraction_tuple[0] / fraction_tuple[1]\n",
    "            node_middle_tuple_fraction_value = N.middle_tuple[0] / N.middle_tuple[1]\n",
    "            if fraction_tuple_value < node_middle_tuple_fraction_value:\n",
    "                N = N.L()\n",
    "            elif fraction_tuple_value > node_middle_tuple_fraction_value:\n",
    "                N = N.R()\n",
    "            else:\n",
    "                return N\n",
    "    \n",
    "    @staticmethod\n",
    "    def mediant(x, y):\n",
    "        return (x[0] + y[0], x[1] + y[1])\n",
    "\n",
    "    def __init__(self, move_list, left_tuple, middle_tuple, right_tuple):\n",
    "        self.move_list = move_list\n",
    "        self.left_tuple = left_tuple\n",
    "        self.middle_tuple = middle_tuple\n",
    "        self.right_tuple = right_tuple\n",
    "\n",
    "    def L(self):\n",
    "        \"\"\"Left child: (left_tuple, mediant(left_tuple, middle_tuple), middle_tuple).\"\"\"\n",
    "        new_move_list = self.move_list + ['L']\n",
    "        new_middle_tuple = type(self).mediant(self.left_tuple, self.middle_tuple)\n",
    "        return type(self)(new_move_list, self.left_tuple, new_middle_tuple, self.middle_tuple)\n",
    "\n",
    "    def R(self):\n",
    "        \"\"\"Right child: (middle_tuple, mediant(middle_tuple, right_tuple), right_tuple).\"\"\"\n",
    "        new_move_list = self.move_list + ['R']\n",
    "        new_middle_tuple = type(self).mediant(self.middle_tuple, self.right_tuple)\n",
    "        return type(self)(new_move_list, self.middle_tuple, new_middle_tuple, self.right_tuple)\n",
    "    \n",
    "    def run_list(self):\n",
    "        _run_list = [(k, len(list(g))) for k, g in it.groupby(self.move_list)]\n",
    "        if _run_list[0][0] == 'L':\n",
    "            _run_list = [('R', 0)] + _run_list\n",
    "        return _run_list\n",
    "    \n",
    "    def cf(self):\n",
    "        _run_list = self.run_list()\n",
    "        cf_list = [run[1] for run in _run_list]\n",
    "        return cf_list\n",
    "    \n",
    "    def __eq__(self, other):\n",
    "        return self.move_list == other.move_list\n",
    "\n",
    "    def __repr__(self):\n",
    "        return f\"{type(self).__name__}({self.move_list}, {self.left_tuple}, {self.middle_tuple}, {self.right_tuple})\"\n",
    "    \n",
    "    def __str__(self):\n",
    "        return f\"{str(self.run_list())}\\n{self.middle_tuple}\"\n",
    "    \n",
    "\n",
    "if __name__ == \"__main__\":\n",
    "    fraction_tuple = (23, 196)\n",
    "    sb_node = SternBrocotNode.locate_fraction_tuple(fraction_tuple)\n",
    "    print(repr(sb_node))\n",
    "    print(str(sb_node))"
   ]
  },
  {
   "cell_type": "code",
   "execution_count": null,
   "id": "df009e04",
   "metadata": {},
   "outputs": [],
   "source": []
  }
 ],
 "metadata": {
  "kernelspec": {
   "display_name": "venv",
   "language": "python",
   "name": "python3"
  },
  "language_info": {
   "codemirror_mode": {
    "name": "ipython",
    "version": 3
   },
   "file_extension": ".py",
   "mimetype": "text/x-python",
   "name": "python",
   "nbconvert_exporter": "python",
   "pygments_lexer": "ipython3",
   "version": "3.13.1"
  }
 },
 "nbformat": 4,
 "nbformat_minor": 5
}
