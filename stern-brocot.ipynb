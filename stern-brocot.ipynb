{
 "cells": [
  {
   "cell_type": "markdown",
   "id": "f6b75632",
   "metadata": {},
   "source": [
    "https://mattbaker.blog/2019/01/28/the-stern-brocot-tree-hurwitzs-theorem-and-the-markoff-uniqueness-conjecture/"
   ]
  },
  {
   "cell_type": "code",
   "execution_count": 13,
   "id": "682b3b75",
   "metadata": {},
   "outputs": [
    {
     "name": "stdout",
     "output_type": "stream",
     "text": [
      "SternBrocotNode(['L', 'L', 'L', 'L', 'L', 'L', 'L', 'L', 'R', 'L', 'R', 'R', 'R', 'R', 'R', 'R', 'R', 'R', 'R', 'R'], (21, 179), (23, 196), (2, 17))\n",
      "[('L', 8), ('R', 1), ('L', 1), ('R', 10)]\n",
      "(23, 196)\n",
      "True\n"
     ]
    }
   ],
   "source": [
    "import itertools as it\n",
    "\n",
    "class SternBrocotNode:\n",
    "    root_left_tuple, root_middle_tuple, root_right_tuple = (0, 1), (1, 1), (1, 0)\n",
    "\n",
    "    @classmethod\n",
    "    def locate_fraction_tuple(cls, fraction_tuple):\n",
    "        N = cls([], cls.root_left_tuple, cls.root_middle_tuple, cls.root_right_tuple)\n",
    "        while True:\n",
    "            fraction_tuple_value = fraction_tuple[0] / fraction_tuple[1]\n",
    "            node_middle_tuple_fraction_value = N.middle_tuple[0] / N.middle_tuple[1]\n",
    "            if fraction_tuple_value < node_middle_tuple_fraction_value:\n",
    "                N = N.L()\n",
    "            elif fraction_tuple_value > node_middle_tuple_fraction_value:\n",
    "                N = N.R()\n",
    "            else:\n",
    "                return N\n",
    "    \n",
    "    @staticmethod\n",
    "    def mediant(x, y):\n",
    "        return (x[0] + y[0], x[1] + y[1])\n",
    "\n",
    "    def __init__(self, move_list, left_tuple, middle_tuple, right_tuple):\n",
    "        self.move_list = move_list\n",
    "        self.left_tuple = left_tuple\n",
    "        self.middle_tuple = middle_tuple\n",
    "        self.right_tuple = right_tuple\n",
    "\n",
    "    def L(self):\n",
    "        \"\"\"Left child: (left_tuple, mediant(left_tuple, middle_tuple), middle_tuple).\"\"\"\n",
    "        new_move_list = self.move_list + ['L']\n",
    "        new_middle_tuple = type(self).mediant(self.left_tuple, self.middle_tuple)\n",
    "        return type(self)(new_move_list, self.left_tuple, new_middle_tuple, self.middle_tuple)\n",
    "\n",
    "    def R(self):\n",
    "        \"\"\"Right child: (middle_tuple, mediant(middle_tuple, right_tuple), right_tuple).\"\"\"\n",
    "        new_move_list = self.move_list + ['R']\n",
    "        new_middle_tuple = type(self).mediant(self.middle_tuple, self.right_tuple)\n",
    "        return type(self)(new_move_list, self.middle_tuple, new_middle_tuple, self.right_tuple)\n",
    "    \n",
    "    def run_list(self):\n",
    "        return [(k, len(list(g))) for k, g in it.groupby(self.move_list)]\n",
    "    \n",
    "    def cf_list(self):\n",
    "        _run_list = self.run_list()\n",
    "        if _run_list[0][0] == 'L':\n",
    "            _run_list = [('R', 0)] + _run_list\n",
    "        cf_list = [run[1] for run in _run_list]\n",
    "        return cf_list\n",
    "    \n",
    "    def __eq__(self, other):\n",
    "        return self.move_list == other.move_list\n",
    "\n",
    "    def __repr__(self):\n",
    "        return f\"{type(self).__name__}({self.move_list}, {self.left_tuple}, {self.middle_tuple}, {self.right_tuple})\"\n",
    "    \n",
    "    def __str__(self):\n",
    "        return f\"{str(self.run_list())}\\n{self.middle_tuple}\"\n",
    "    \n",
    "\n",
    "if __name__ == \"__main__\":\n",
    "    fraction_tuple = (23, 196)\n",
    "    sb_node = SternBrocotNode.locate_fraction_tuple(fraction_tuple)\n",
    "    print(repr(sb_node))\n",
    "    print(str(sb_node))\n",
    "    print(bool(sb_node))"
   ]
  },
  {
   "cell_type": "code",
   "execution_count": 31,
   "id": "7f951443",
   "metadata": {},
   "outputs": [
    {
     "data": {
      "text/plain": [
       "[(1, 1), (2, 3)]"
      ]
     },
     "execution_count": 31,
     "metadata": {},
     "output_type": "execute_result"
    }
   ],
   "source": [
    "[(k, len(list(g))) for k, g in it.groupby([1, 2, 2, 2])]"
   ]
  },
  {
   "cell_type": "code",
   "execution_count": 34,
   "id": "21bd7bc1",
   "metadata": {},
   "outputs": [
    {
     "data": {
      "text/plain": [
       "[(1, 1), (2, 3), (1, 2), (2, 1), (1, 1), (2, 1)]"
      ]
     },
     "execution_count": 34,
     "metadata": {},
     "output_type": "execute_result"
    }
   ],
   "source": [
    "[(k, len(list(g))) for k, g in it.groupby([1, 2, 2, 2, 1, 1, 2, 1, 2])]"
   ]
  },
  {
   "cell_type": "code",
   "execution_count": null,
   "id": "f93161c8",
   "metadata": {},
   "outputs": [],
   "source": []
  }
 ],
 "metadata": {
  "kernelspec": {
   "display_name": "venv",
   "language": "python",
   "name": "python3"
  },
  "language_info": {
   "codemirror_mode": {
    "name": "ipython",
    "version": 3
   },
   "file_extension": ".py",
   "mimetype": "text/x-python",
   "name": "python",
   "nbconvert_exporter": "python",
   "pygments_lexer": "ipython3",
   "version": "3.13.1"
  }
 },
 "nbformat": 4,
 "nbformat_minor": 5
}
