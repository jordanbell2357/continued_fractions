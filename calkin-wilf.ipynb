{
 "cells": [
  {
   "cell_type": "code",
   "execution_count": 1,
   "id": "e5cf1b9e",
   "metadata": {},
   "outputs": [
    {
     "name": "stdout",
     "output_type": "stream",
     "text": [
      "125430397184702359\n",
      "CacheInfo(hits=100, misses=200, maxsize=128, currsize=128)\n"
     ]
    }
   ],
   "source": [
    "import functools as ft\n",
    "\n",
    "@ft.lru_cache\n",
    "def fusc(n):\n",
    "    if n == 0:\n",
    "        return 0\n",
    "    elif n == 1:\n",
    "        return 1\n",
    "    else:\n",
    "        if n % 2 == 0:\n",
    "            return fusc(n // 2)\n",
    "        else:\n",
    "            return fusc((n + 1) // 2) + fusc((n - 1) // 2)\n",
    "        \n",
    "print(fusc(19991 ** 7))\n",
    "\n",
    "print(fusc.cache_info())"
   ]
  },
  {
   "cell_type": "code",
   "execution_count": 11,
   "id": "2ad05fb1",
   "metadata": {},
   "outputs": [
    {
     "name": "stdout",
     "output_type": "stream",
     "text": [
      "2047\n",
      "CalkinWilfNode(5, 10, ['L', 'R', 'L', 'R', 'L'], (8, 13))\n",
      "['L', 'R', 'L', 'R', 'L']\n",
      "CalkinWilfNode(5, 0, ['L', 'R', 'L', 'R', 'L'], (8, 13))\n"
     ]
    }
   ],
   "source": [
    "import itertools as it\n",
    "import functools as ft\n",
    "import operator\n",
    "\n",
    "class CalkinWilfNode:\n",
    "    ROOT_LEVEL = 0\n",
    "    ROOT_LEVEL_INDEX = 0\n",
    "    ROOT_MOVE_LIST = []\n",
    "    ROOT_FRACTION_TUPLE = (1, 1)\n",
    "\n",
    "    def __init__(self, level=None, level_index=None, move_list=None, fraction_tuple=None):\n",
    "        if level is None:\n",
    "            self.level = type(self).ROOT_LEVEL\n",
    "            self.level_index = type(self).ROOT_LEVEL_INDEX\n",
    "            self.bfs_index = 2 ** type(self).ROOT_LEVEL + type(self).ROOT_LEVEL_INDEX\n",
    "            self.move_list = type(self).ROOT_MOVE_LIST\n",
    "            self.fraction_tuple = type(self).ROOT_FRACTION_TUPLE\n",
    "        else:\n",
    "            self.level = level\n",
    "            self.level_index = level_index\n",
    "            self.bfs_index = 2 ** self.level + self.level_index\n",
    "            self.move_list = move_list\n",
    "            self.fraction_tuple = fraction_tuple\n",
    "    \n",
    "    def L(self):\n",
    "        new_level = self.level + 1\n",
    "        new_level_index = 2 * self.level_index\n",
    "        new_move_list = self.move_list + [\"L\"]\n",
    "        a, b = self.fraction_tuple\n",
    "        new_fraction_tuple = (a, a + b)\n",
    "        return type(self)(new_level, new_level_index, new_move_list, new_fraction_tuple)\n",
    "    \n",
    "    def R(self):\n",
    "        new_level = self.level + 1\n",
    "        new_level_index = 2 * self.level_index + 1\n",
    "        new_move_list = self.move_list + [\"R\"]\n",
    "        a, b = self.fraction_tuple\n",
    "        new_fraction_tuple = (a + b, b)\n",
    "        return type(self)(new_level, new_level_index, new_move_list, new_fraction_tuple)\n",
    "    \n",
    "    def P(self):\n",
    "        if self.level == type(self).ROOT_LEVEL:\n",
    "            return None\n",
    "        else:\n",
    "            new_level = self.level - 1\n",
    "            new_level_index = self.level_index // 2\n",
    "            move_list = self.move_list\n",
    "            new_move_list = move_list[0:-1]\n",
    "            a, b = self.fraction_tuple\n",
    "            if a < b:\n",
    "                new_fraction_tuple = (a, b - a)\n",
    "            else:\n",
    "                new_fraction_tuple = (a - b, b)\n",
    "            return type(self)(new_level, new_level_index, new_move_list, new_fraction_tuple)\n",
    "    \n",
    "    def run_list(self):\n",
    "        return [(k, len(list(g))) for k, g in it.groupby(self.move_list)]\n",
    "    \n",
    "    def __repr__(self):\n",
    "        return f\"{type(self).__name__}({self.level}, {self.level_index}, {self.move_list}, {self.fraction_tuple})\"\n",
    "    \n",
    "    def __eq__(self, other):\n",
    "        return self.level == other.level and self.level_index == other.level_index\n",
    "    \n",
    "    @staticmethod\n",
    "    def bfs_binary_string(n: int):\n",
    "        binary_string = f\"{n:b}\"\n",
    "        return [(k, len(list(g))) for k, g in it.groupby(reversed(binary_string))]\n",
    "\n",
    "    @classmethod\n",
    "    def find_move_list(cls, fraction_tuple, move_list):\n",
    "        if fraction_tuple == (1, 1):\n",
    "            return move_list\n",
    "        else:\n",
    "            a, b = fraction_tuple\n",
    "            if a < b:\n",
    "                new_move_list = [\"L\"] + move_list\n",
    "                new_fraction_tuple = (a, b - a)\n",
    "            else:\n",
    "                new_move_list = [\"R\"] + move_list\n",
    "                new_fraction_tuple = (a - b, b)\n",
    "            return cls.find_move_list(new_fraction_tuple, new_move_list)\n",
    "        \n",
    "    @classmethod\n",
    "    def fraction_tuple_to_node(cls, fraction_tuple):\n",
    "        move_list = cls.find_move_list(fraction_tuple, [])\n",
    "        level = len(move_list)\n",
    "        level_index = 0\n",
    "        return cls(level, level_index, move_list, fraction_tuple)\n",
    "\n",
    "\n",
    "if __name__ == \"__main__\":\n",
    "    depth = 10\n",
    "    cw_tree = []\n",
    "\n",
    "    N0 = CalkinWilfNode()\n",
    "    level_node_list = []\n",
    "    level_node_list.append(N0)\n",
    "    cw_tree.append(level_node_list)\n",
    "\n",
    "    for n in range(depth):\n",
    "        previous_level_node_list = level_node_list\n",
    "        level_node_list = []\n",
    "        for N in previous_level_node_list:\n",
    "            level_node_list.append(N.L())\n",
    "            level_node_list.append(N.R())\n",
    "        cw_tree.append(level_node_list)\n",
    "\n",
    "    # cw_bfs_list = list(it.chain.from_iterable(cw_tree))\n",
    "    cw_bfs_list = ft.reduce(operator.iadd, cw_tree, [])\n",
    "    cw_bfs_tuple_list = [(k, N.fraction_tuple, N.bfs_index) for k, N in enumerate(cw_bfs_list, start=1)]\n",
    "    print(len(cw_bfs_tuple_list))\n",
    "    print(cw_bfs_list[41])\n",
    "\n",
    "    print(CalkinWilfNode.find_move_list((8, 13), []))\n",
    "\n",
    "    print(CalkinWilfNode.fraction_tuple_to_node((8, 13)))"
   ]
  },
  {
   "cell_type": "code",
   "execution_count": 12,
   "id": "a2758d76",
   "metadata": {},
   "outputs": [
    {
     "data": {
      "text/plain": [
       "[1, 1]"
      ]
     },
     "execution_count": 12,
     "metadata": {},
     "output_type": "execute_result"
    }
   ],
   "source": [
    "move_list = ['R', 'R']\n",
    "move_encode_dict = {'L': 0, 'R': 1}\n",
    "move_list_encoded = [move_encode_dict[move] for move in move_list]\n",
    "move_list_encoded_reversed = list(reversed(move_list_encoded))\n",
    "move_list_encoded_reversed"
   ]
  },
  {
   "cell_type": "code",
   "execution_count": null,
   "id": "cbb98144",
   "metadata": {},
   "outputs": [],
   "source": []
  }
 ],
 "metadata": {
  "kernelspec": {
   "display_name": "venv",
   "language": "python",
   "name": "python3"
  },
  "language_info": {
   "codemirror_mode": {
    "name": "ipython",
    "version": 3
   },
   "file_extension": ".py",
   "mimetype": "text/x-python",
   "name": "python",
   "nbconvert_exporter": "python",
   "pygments_lexer": "ipython3",
   "version": "3.13.1"
  }
 },
 "nbformat": 4,
 "nbformat_minor": 5
}
