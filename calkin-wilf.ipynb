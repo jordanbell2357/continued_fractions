{
 "cells": [
  {
   "cell_type": "code",
   "execution_count": 24,
   "id": "e5b4be67",
   "metadata": {},
   "outputs": [
    {
     "name": "stdout",
     "output_type": "stream",
     "text": [
      "ReverseCalkinWilfNode(['L', 'R', 'L'], 1, 1)\n"
     ]
    }
   ],
   "source": [
    "class ReverseCalkinWilfNode:\n",
    "    root_numerator, root_denominator = 1, 1\n",
    "\n",
    "    @classmethod\n",
    "    def path_to_root(cls, fraction_tuple):\n",
    "        N = cls([], fraction_tuple[0], fraction_tuple[1])\n",
    "        P = N.P()\n",
    "        while True:\n",
    "            if P.numerator == cls.root_numerator and P.denominator == cls.root_denominator:\n",
    "                return P\n",
    "            else:\n",
    "                P = P.P()\n",
    "\n",
    "    def __init__(self, move_list, numerator, denominator):\n",
    "        self.move_list = move_list\n",
    "        self.numerator = numerator\n",
    "        self.denominator = denominator\n",
    "\n",
    "    def P(self):\n",
    "        if self.numerator < self.denominator:\n",
    "            new_move_list = [\"L\"] + self.move_list\n",
    "            new_numerator = self.numerator\n",
    "            new_denominator = self.denominator - self.numerator\n",
    "            return type(self)(new_move_list, new_numerator, new_denominator)\n",
    "        elif self.numerator > self.denominator:\n",
    "            new_move_list = [\"R\"] + self.move_list\n",
    "            new_numerator = self.numerator - self.denominator\n",
    "            new_denominator = self.denominator\n",
    "            return type(self)(new_move_list, new_numerator, new_denominator)\n",
    "\n",
    "    def __repr__(self):\n",
    "        return f\"{type(self).__name__}({self.move_list}, {self.numerator}, {self.denominator})\"\n",
    "\n",
    "\n",
    "if __name__ == \"__main__\":\n",
    "    print(ReverseCalkinWilfNode.path_to_root((3, 5)))"
   ]
  },
  {
   "cell_type": "code",
   "execution_count": 26,
   "id": "2ad05fb1",
   "metadata": {},
   "outputs": [
    {
     "name": "stdout",
     "output_type": "stream",
     "text": [
      "CalkinWilfNode(1, 0, ['L'], (1, 2))\n",
      "CalkinWilfNode(3, 3, ['L', 'R', 'R'], (5, 2))\n",
      "CalkinWilfNode(-1, -1, ['L', 'R', 'R'], (5, 2))\n"
     ]
    }
   ],
   "source": [
    "import itertools as it\n",
    "\n",
    "class CalkinWilfNode:\n",
    "    root_level = 0\n",
    "    root_level_index = 0\n",
    "    root_move_list = []\n",
    "    root_fraction_tuple = (1, 1)\n",
    "\n",
    "    @staticmethod\n",
    "    def bfs_binary_string(n: int):\n",
    "        binary_string = f\"{n:b}\"\n",
    "        return [(k, len(list(g))) for k, g in it.groupby(reversed(binary_string))]\n",
    "\n",
    "    @classmethod\n",
    "    def locate_fraction_tuple(cls, fraction_tuple):\n",
    "        move_list = ReverseCalkinWilfNode.path_to_root(fraction_tuple).move_list\n",
    "        return cls(-1, -1, move_list, fraction_tuple)\n",
    "\n",
    "    def __init__(self, level=None, level_index=None, move_list=None, fraction_tuple=None):\n",
    "        if level is None:\n",
    "            self.level = type(self).root_level\n",
    "            self.level_index = type(self).root_level_index\n",
    "            self.move_list = type(self).root_move_list\n",
    "            self.fraction_tuple = type(self).root_fraction_tuple\n",
    "        else:\n",
    "            self.level = level\n",
    "            self.level_index = level_index\n",
    "            self.move_list = move_list\n",
    "            self.fraction_tuple = fraction_tuple\n",
    "    \n",
    "    @property\n",
    "    def L(self):\n",
    "        new_level = self.level + 1\n",
    "        new_level_index = 2 * self.level_index\n",
    "        new_move_list = self.move_list + [\"L\"]\n",
    "        a, b = self.fraction_tuple\n",
    "        new_fraction_tuple = (a, a + b)\n",
    "        return type(self)(new_level, new_level_index, new_move_list, new_fraction_tuple)\n",
    "    \n",
    "    @property\n",
    "    def R(self):\n",
    "        new_level = self.level + 1\n",
    "        new_level_index = 2 * self.level_index + 1\n",
    "        new_move_list = self.move_list + [\"R\"]\n",
    "        a, b = self.fraction_tuple\n",
    "        new_fraction_tuple = (a + b, b)\n",
    "        return type(self)(new_level, new_level_index, new_move_list, new_fraction_tuple)\n",
    "    \n",
    "    def run_list(self):\n",
    "        return [(k, len(list(g))) for k, g in it.groupby(self.move_list)]\n",
    "    \n",
    "    def __repr__(self):\n",
    "        return f\"{type(self).__name__}({self.level}, {self.level_index}, {self.move_list}, {self.fraction_tuple})\"\n",
    "\n",
    "    \n",
    "if __name__ == \"__main__\":\n",
    "    N0 = CalkinWilfNode()\n",
    "    N1 = N0.L\n",
    "    print(N1)\n",
    "    N2 = N1.R\n",
    "    print(N2.R)\n",
    "\n",
    "    print(CalkinWilfNode.locate_fraction_tuple((5, 2)))"
   ]
  },
  {
   "cell_type": "code",
   "execution_count": null,
   "id": "4dd74f93",
   "metadata": {},
   "outputs": [],
   "source": []
  }
 ],
 "metadata": {
  "kernelspec": {
   "display_name": "venv",
   "language": "python",
   "name": "python3"
  },
  "language_info": {
   "codemirror_mode": {
    "name": "ipython",
    "version": 3
   },
   "file_extension": ".py",
   "mimetype": "text/x-python",
   "name": "python",
   "nbconvert_exporter": "python",
   "pygments_lexer": "ipython3",
   "version": "3.13.1"
  }
 },
 "nbformat": 4,
 "nbformat_minor": 5
}
